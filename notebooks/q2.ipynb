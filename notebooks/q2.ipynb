{
 "cells": [
  {
   "cell_type": "markdown",
   "metadata": {
    "collapsed": true,
    "pycharm": {
     "name": "#%% md\n"
    }
   },
   "source": [
    "# <font color=red>HW02-q2 Vision Course, Camera Calibration</font>\n",
    "This is the notebook for **q2.py** that is the implementation of **Camera Calibration**. <br>\n",
    "The code is written by **Asal Mehradfar** with student number **96105434**."
   ]
  },
  {
   "cell_type": "markdown",
   "source": [
    "## <font color=orange>Description</font>\n",
    "\n",
    "*   In the course we had: <br>\n",
    "$$K =\\begin{bmatrix} f_x & 0 & P_x \\\\ 0 & f_y & P_y \\\\ 0 & 0 & 1 \\end{bmatrix}$$ <br>\n",
    "*   For the changeable center we have four matrices for K that by comparing errors we find the matrix below:<br>\n",
    "$$K =\\begin{bmatrix} 2932 & 0 & 912 \\\\ 0 & 2953 & 552 \\\\ 0 & 0 & 1 \\end{bmatrix}$$ <br>\n",
    "Pay attention that the matrices which were found are almost the same in four cases.\n",
    "*   For the non-changeable center we have four matrices for K that by comparing errors we find the matrix below:<br>\n",
    "$$K =\\begin{bmatrix} 2916 & 0 & 750 \\\\ 0 & 2934 & 500 \\\\ 0 & 0 & 1 \\end{bmatrix}$$ <br>\n",
    "Pay attention that the matrices which were found are almost the same in four cases.\n",
    "*   Totally we can say that the result for first ten images is more accurate, but\n",
    "all the results were almost the same.\n",
    "\n"
   ],
   "metadata": {
    "collapsed": false
   }
  },
  {
   "cell_type": "markdown",
   "source": [
    "### <font color=yellow>Imports</font>"
   ],
   "metadata": {
    "collapsed": false
   }
  },
  {
   "cell_type": "code",
   "execution_count": 79,
   "outputs": [],
   "source": [
    "import cv2\n",
    "import numpy as np"
   ],
   "metadata": {
    "collapsed": false,
    "pycharm": {
     "name": "#%%\n"
    }
   }
  },
  {
   "cell_type": "markdown",
   "source": [
    "### <font color=yellow>Parameters</font>\n",
    "\n",
    "*   BOARD_SIZE = (6, 9)\n",
    "*   a = 22 mm"
   ],
   "metadata": {
    "collapsed": false
   }
  },
  {
   "cell_type": "code",
   "execution_count": 80,
   "outputs": [],
   "source": [
    "BOARD_SIZE = (6, 9)\n",
    "a = 22"
   ],
   "metadata": {
    "collapsed": false,
    "pycharm": {
     "name": "#%%\n"
    }
   }
  },
  {
   "cell_type": "markdown",
   "source": [
    "### <font color=yellow>Functions</font>"
   ],
   "metadata": {
    "collapsed": false
   }
  },
  {
   "cell_type": "code",
   "execution_count": 81,
   "outputs": [],
   "source": [
    "def get_gray_img(path):\n",
    "    \"\"\"\n",
    "    Read the image file from the path and change it to the gray one\n",
    "\n",
    "    Inputs:\n",
    "    --> path: path for the image\n",
    "    Outputs:\n",
    "    ==> gray_img: the gray image\n",
    "    \"\"\"\n",
    "    img = cv2.imread(path)\n",
    "    gray_img = cv2.cvtColor(img, cv2.COLOR_BGR2GRAY)\n",
    "    return gray_img\n",
    "\n",
    "def calibration_camera(start, end, flags= 0):\n",
    "    \"\"\"\n",
    "    for this implementation I used the code for the opencv source of camera calibration,\n",
    "    we have two important parameters object_points and image_points,\n",
    "    object_points are the grid ones which was made by np.mgrid, showing the boxes\n",
    "    with their depth to be zero,\n",
    "    img_points are showing the corners which was made by np.findChessboardCorners.\n",
    "    we give this inputs to cv2.calibrateCamera and get the K matrix at the end.\n",
    "    the other parameters and this matrix are used to find out whether our approximation\n",
    "    works well or not.\n",
    "\n",
    "    Inputs:\n",
    "    --> start: num of the first image for camera calibration\n",
    "    --> end: num of the last image for camera calibration\n",
    "    --> flags: if zero the principal point is in the center of the table,\n",
    "    if cv2.CALIB_FIX_PRINCIPAL_POINT the principal point is the center of the whole image\n",
    "    Outputs:\n",
    "    ==> err: the re-projection error, which gives a good estimation of\n",
    "    how exact the found parameters are\n",
    "    ==> mat: the parameters matrix, we named it K in out course\n",
    "    \"\"\"\n",
    "    criteria = (cv2.TERM_CRITERIA_EPS + cv2.TERM_CRITERIA_MAX_ITER, 30, 0.001)\n",
    "    object_points = []\n",
    "    img_points = []\n",
    "\n",
    "    obj_point = np.zeros((BOARD_SIZE[0] * BOARD_SIZE[1], 3), np.float32)\n",
    "    obj_point[:,:2] = np.mgrid[0:BOARD_SIZE[0],0:BOARD_SIZE[1]].T.reshape(-1,2)\n",
    "    obj_point = obj_point * 22 # multiply a to obj_points\n",
    "\n",
    "    for i in range(start, end+1):\n",
    "        img = get_gray_img('im' + str(i).zfill(2) + '.jpg')\n",
    "        ret, corners = cv2.findChessboardCorners(img, BOARD_SIZE,\n",
    "                        cv2.CALIB_CB_ADAPTIVE_THRESH + cv2.CALIB_CB_FAST_CHECK + cv2.CALIB_CB_NORMALIZE_IMAGE)\n",
    "        if ret:\n",
    "            object_points.append(obj_point)\n",
    "            # not necessary\n",
    "            corners2 = cv2.cornerSubPix(img, corners, (11,11), (-1,-1), criteria)\n",
    "            img_points.append(corners2)\n",
    "\n",
    "    _,mat, dist, rvecs, tvecs = cv2.calibrateCamera(object_points, img_points, img.shape[::-1], None, None, flags=flags)\n",
    "    mean_error = 0\n",
    "    for i in range(len(object_points)):\n",
    "        img_points2, _ = cv2.projectPoints(object_points[i], rvecs[i], tvecs[i], mat, dist)\n",
    "        error = cv2.norm(img_points[i], img_points2, cv2.NORM_L2) / len(img_points2)\n",
    "        mean_error += error\n",
    "    err = mean_error/len(object_points)\n",
    "\n",
    "    return err, mat"
   ],
   "metadata": {
    "collapsed": false,
    "pycharm": {
     "name": "#%%\n"
    }
   }
  },
  {
   "cell_type": "markdown",
   "source": [
    "### <font color=yellow>Main Part</font>"
   ],
   "metadata": {
    "collapsed": false
   }
  },
  {
   "cell_type": "markdown",
   "source": [
    "#### <font color=yellow>With the center of the chessboard as a principal point</font>"
   ],
   "metadata": {
    "collapsed": false
   }
  },
  {
   "cell_type": "code",
   "execution_count": 82,
   "outputs": [],
   "source": [
    "err1, m1 = calibration_camera(1, 10)\n",
    "err2, m2 = calibration_camera(6, 15)\n",
    "err3, m3 = calibration_camera(11, 20)\n",
    "err4, m4 = calibration_camera(1, 20)"
   ],
   "metadata": {
    "collapsed": false,
    "pycharm": {
     "name": "#%%\n"
    }
   }
  },
  {
   "cell_type": "code",
   "execution_count": 83,
   "outputs": [
    {
     "name": "stdout",
     "output_type": "stream",
     "text": [
      "0.04784290310559341 \n",
      " [[2.93177482e+03 0.00000000e+00 9.11515612e+02]\n",
      " [0.00000000e+00 2.95269125e+03 5.51569282e+02]\n",
      " [0.00000000e+00 0.00000000e+00 1.00000000e+00]]\n"
     ]
    }
   ],
   "source": [
    "print(err1, '\\n', m1)"
   ],
   "metadata": {
    "collapsed": false,
    "pycharm": {
     "name": "#%%\n"
    }
   }
  },
  {
   "cell_type": "code",
   "execution_count": 84,
   "outputs": [
    {
     "name": "stdout",
     "output_type": "stream",
     "text": [
      "0.05520849690235474 \n",
      " [[3.00205134e+03 0.00000000e+00 8.81603273e+02]\n",
      " [0.00000000e+00 2.99789505e+03 5.28410868e+02]\n",
      " [0.00000000e+00 0.00000000e+00 1.00000000e+00]]\n"
     ]
    }
   ],
   "source": [
    "print(err2, '\\n', m2)"
   ],
   "metadata": {
    "collapsed": false,
    "pycharm": {
     "name": "#%%\n"
    }
   }
  },
  {
   "cell_type": "code",
   "execution_count": 85,
   "outputs": [
    {
     "name": "stdout",
     "output_type": "stream",
     "text": [
      "0.05707281575713048 \n",
      " [[3.04620462e+03 0.00000000e+00 7.18349258e+02]\n",
      " [0.00000000e+00 3.03488553e+03 5.48592497e+02]\n",
      " [0.00000000e+00 0.00000000e+00 1.00000000e+00]]\n"
     ]
    }
   ],
   "source": [
    "print(err3, '\\n', m3)"
   ],
   "metadata": {
    "collapsed": false,
    "pycharm": {
     "name": "#%%\n"
    }
   }
  },
  {
   "cell_type": "code",
   "execution_count": 86,
   "outputs": [
    {
     "name": "stdout",
     "output_type": "stream",
     "text": [
      "0.05598006332469104 \n",
      " [[2.98249080e+03 0.00000000e+00 8.36993933e+02]\n",
      " [0.00000000e+00 2.99047669e+03 5.12819189e+02]\n",
      " [0.00000000e+00 0.00000000e+00 1.00000000e+00]]\n"
     ]
    }
   ],
   "source": [
    "print(err4, '\\n', m4)\n"
   ],
   "metadata": {
    "collapsed": false,
    "pycharm": {
     "name": "#%%\n"
    }
   }
  },
  {
   "cell_type": "markdown",
   "source": [
    "#### <font color=yellow>With the center of the image as a principal point</font>"
   ],
   "metadata": {
    "collapsed": false
   }
  },
  {
   "cell_type": "code",
   "execution_count": 87,
   "outputs": [],
   "source": [
    "err1, m1 = calibration_camera(1, 10, cv2.CALIB_FIX_PRINCIPAL_POINT)\n",
    "err2, m2 = calibration_camera(6, 15, cv2.CALIB_FIX_PRINCIPAL_POINT)\n",
    "err3, m3 = calibration_camera(11, 20, cv2.CALIB_FIX_PRINCIPAL_POINT)\n",
    "err4, m4 = calibration_camera(1, 20, cv2.CALIB_FIX_PRINCIPAL_POINT)"
   ],
   "metadata": {
    "collapsed": false,
    "pycharm": {
     "name": "#%%\n"
    }
   }
  },
  {
   "cell_type": "code",
   "execution_count": 88,
   "outputs": [
    {
     "name": "stdout",
     "output_type": "stream",
     "text": [
      "0.04940488249431769 \n",
      " [[2.91551292e+03 0.00000000e+00 7.49500000e+02]\n",
      " [0.00000000e+00 2.93403525e+03 4.99500000e+02]\n",
      " [0.00000000e+00 0.00000000e+00 1.00000000e+00]]\n"
     ]
    }
   ],
   "source": [
    "print(err1, '\\n', m1)"
   ],
   "metadata": {
    "collapsed": false,
    "pycharm": {
     "name": "#%%\n"
    }
   }
  },
  {
   "cell_type": "code",
   "execution_count": 89,
   "outputs": [
    {
     "name": "stdout",
     "output_type": "stream",
     "text": [
      "0.05627709471433159 \n",
      " [[3.01211525e+03 0.00000000e+00 7.49500000e+02]\n",
      " [0.00000000e+00 3.00442525e+03 4.99500000e+02]\n",
      " [0.00000000e+00 0.00000000e+00 1.00000000e+00]]\n"
     ]
    }
   ],
   "source": [
    "print(err2, '\\n', m2)"
   ],
   "metadata": {
    "collapsed": false,
    "pycharm": {
     "name": "#%%\n"
    }
   }
  },
  {
   "cell_type": "code",
   "execution_count": 90,
   "outputs": [
    {
     "name": "stdout",
     "output_type": "stream",
     "text": [
      "0.057434394320965435 \n",
      " [[3.03420019e+03 0.00000000e+00 7.49500000e+02]\n",
      " [0.00000000e+00 3.02427348e+03 4.99500000e+02]\n",
      " [0.00000000e+00 0.00000000e+00 1.00000000e+00]]\n"
     ]
    }
   ],
   "source": [
    "print(err3, '\\n', m3)"
   ],
   "metadata": {
    "collapsed": false,
    "pycharm": {
     "name": "#%%\n"
    }
   }
  },
  {
   "cell_type": "code",
   "execution_count": 91,
   "outputs": [
    {
     "name": "stdout",
     "output_type": "stream",
     "text": [
      "0.05637766018301391 \n",
      " [[2.98860107e+03 0.00000000e+00 7.49500000e+02]\n",
      " [0.00000000e+00 2.99499501e+03 4.99500000e+02]\n",
      " [0.00000000e+00 0.00000000e+00 1.00000000e+00]]\n"
     ]
    }
   ],
   "source": [
    "print(err4, '\\n', m4)"
   ],
   "metadata": {
    "collapsed": false,
    "pycharm": {
     "name": "#%%\n"
    }
   }
  }
 ],
 "metadata": {
  "kernelspec": {
   "display_name": "Python 3",
   "language": "python",
   "name": "python3"
  },
  "language_info": {
   "codemirror_mode": {
    "name": "ipython",
    "version": 2
   },
   "file_extension": ".py",
   "mimetype": "text/x-python",
   "name": "python",
   "nbconvert_exporter": "python",
   "pygments_lexer": "ipython2",
   "version": "2.7.6"
  }
 },
 "nbformat": 4,
 "nbformat_minor": 0
}